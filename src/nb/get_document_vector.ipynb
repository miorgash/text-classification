{
 "cells": [
  {
   "cell_type": "code",
   "execution_count": 72,
   "metadata": {},
   "outputs": [],
   "source": [
    "from pathlib import Path\n",
    "import pandas as pd\n",
    "import glob\n",
    "import os\n",
    "from tqdm import tqdm_notebook as tqdm\n",
    "import logging\n",
    "import numpy as np\n",
    "from gensim.models import Word2Vec\n",
    "import MeCab\n",
    "import time\n",
    "from sklearn.preprocessing import normalize\n",
    "from sklearn.model_selection import train_test_split\n",
    "from sklearn.svm import SVC\n",
    "from sklearn.metrics import confusion_matrix\n",
    "import sys\n",
    "import re\n",
    "import csv\n",
    "from IPython.core.display import display\n",
    "\n",
    "# logging\n",
    "logging.basicConfig(format='%(asctime)s : %(levelname)s : %(message)s',\\\n",
    "    level=logging.INFO)\n",
    "\n",
    "# visualization setting\n",
    "np.set_printoptions(suppress=True)\n",
    "\n",
    "p = Path('../../')\n",
    "ro = p / 'data' / 'ro'\n",
    "rw = p / 'data' / 'rw'\n",
    "text = ro / 'text'\n",
    "m = p / 'model'"
   ]
  },
  {
   "cell_type": "code",
   "execution_count": 10,
   "metadata": {},
   "outputs": [
    {
     "data": {
      "text/plain": [
       "[PosixPath('../../model/200features_20minwords_10context_len2alldata'),\n",
       " PosixPath('../../model/size200_min20_window10'),\n",
       " PosixPath('../../model/gmm_latestclusmodel_len2alldata.pkl'),\n",
       " PosixPath('../../model/TEST_SDV_60cluster_200feature_matrix_gmm_sparse.npy'),\n",
       " PosixPath('../../model/SDV_60cluster_200feature_matrix_gmm_sparse.npy'),\n",
       " PosixPath('../../model/gmm_prob_latestclusmodel_len2alldata.pkl')]"
      ]
     },
     "execution_count": 10,
     "metadata": {},
     "output_type": "execute_result"
    }
   ],
   "source": [
    "[f for f in (p / 'model').glob('*')]"
   ]
  },
  {
   "cell_type": "code",
   "execution_count": 13,
   "metadata": {
    "scrolled": true
   },
   "outputs": [
    {
     "name": "stderr",
     "output_type": "stream",
     "text": [
      "2019-10-16 23:43:08,556 : INFO : loading Word2Vec object from ../../model/size200_min20_window10\n",
      "2019-10-16 23:43:08,705 : INFO : loading wv recursively from ../../model/size200_min20_window10.wv.* with mmap=None\n",
      "2019-10-16 23:43:08,707 : INFO : setting ignored attribute vectors_norm to None\n",
      "2019-10-16 23:43:08,707 : INFO : loading vocabulary recursively from ../../model/size200_min20_window10.vocabulary.* with mmap=None\n",
      "2019-10-16 23:43:08,708 : INFO : loading trainables recursively from ../../model/size200_min20_window10.trainables.* with mmap=None\n",
      "2019-10-16 23:43:08,708 : INFO : setting ignored attribute cum_table to None\n",
      "2019-10-16 23:43:08,709 : INFO : loaded ../../model/size200_min20_window10\n"
     ]
    },
    {
     "data": {
      "text/plain": [
       "array([ 0.0025083 ,  0.0183469 ,  0.00345732, -0.03295696, -0.04593367,\n",
       "       -0.10816387,  0.0857932 , -0.12408824,  0.06511008, -0.04497756,\n",
       "       -0.07030071,  0.06944484, -0.01027484,  0.01026676,  0.06238428,\n",
       "       -0.04692511,  0.03373602,  0.14480016,  0.03873958, -0.01466305,\n",
       "       -0.1427166 , -0.07165251,  0.07729675, -0.09725847,  0.13473438,\n",
       "       -0.11147039, -0.01249613, -0.09645063, -0.06055609, -0.06965324,\n",
       "        0.0409329 ,  0.01581345, -0.03386689, -0.11278624, -0.07521959,\n",
       "       -0.00328965, -0.03337483, -0.04025003, -0.0756775 , -0.04741724,\n",
       "        0.02490379,  0.11853001,  0.01307016,  0.10079149, -0.13430206,\n",
       "       -0.09880193,  0.02225843, -0.05936074, -0.01643374, -0.0167249 ,\n",
       "        0.01553877, -0.00309514,  0.04844624,  0.03015225,  0.05496237,\n",
       "       -0.00642745,  0.01031007, -0.03303425, -0.07633678,  0.19726828,\n",
       "        0.08345504,  0.00299668, -0.10082375, -0.05465319,  0.14097722,\n",
       "       -0.03347525,  0.11759061,  0.01626635,  0.04428696,  0.05938733,\n",
       "       -0.0485797 ,  0.02669868,  0.00185997, -0.03005854,  0.04630185,\n",
       "       -0.03566243,  0.00843301,  0.07930364,  0.0475926 , -0.04912472,\n",
       "        0.00343123, -0.0851961 ,  0.08808464, -0.04946091,  0.09325646,\n",
       "       -0.0771941 , -0.00741408, -0.02117557, -0.05199764, -0.10033531,\n",
       "       -0.0244793 ,  0.04691611,  0.01696761,  0.01917626,  0.02815403,\n",
       "        0.16116615, -0.0410925 ,  0.04564885, -0.10745279,  0.0362922 ,\n",
       "        0.03669073, -0.01099431, -0.08386549, -0.0399474 ,  0.02450226,\n",
       "       -0.06215907,  0.0487875 ,  0.06991212, -0.14775576, -0.07888316,\n",
       "        0.01491222, -0.00724776, -0.02060422, -0.14790486,  0.14565746,\n",
       "        0.02896617,  0.00712896,  0.05306697,  0.02560958, -0.07942669,\n",
       "       -0.22673507, -0.02114348, -0.07285519, -0.03327358,  0.00298262,\n",
       "        0.09233996,  0.02329318,  0.00164466, -0.11334617,  0.00316082,\n",
       "        0.07853691,  0.11031172,  0.05152912,  0.01823518, -0.02079377,\n",
       "       -0.08867551,  0.10632883,  0.1055468 , -0.01032082,  0.01391467,\n",
       "       -0.04070298,  0.03110618,  0.10304226, -0.12962565, -0.12270129,\n",
       "        0.04410993, -0.0276208 , -0.16851944,  0.0916445 , -0.01316272,\n",
       "       -0.1033314 ,  0.0176957 ,  0.0498207 , -0.0863516 ,  0.03095751,\n",
       "        0.11909456, -0.09402768, -0.04252412, -0.06105342,  0.01731357,\n",
       "        0.03479885, -0.02045936,  0.02750406,  0.03181476,  0.08719477,\n",
       "       -0.05159231,  0.10478331,  0.03010783, -0.08108544,  0.05263382,\n",
       "        0.09073278, -0.03881951,  0.04245513, -0.05757476, -0.00943301,\n",
       "       -0.03493218, -0.05028541, -0.01373281,  0.01228556, -0.14799578,\n",
       "       -0.08411207, -0.07134064, -0.0340882 , -0.04359178, -0.0305001 ,\n",
       "        0.03101616, -0.08606198, -0.03412228, -0.00559368,  0.10905886,\n",
       "        0.00171768,  0.03383588, -0.00065253, -0.02424501, -0.01035968,\n",
       "       -0.05620734, -0.05734181,  0.04378834,  0.00823998,  0.12934136],\n",
       "      dtype=float32)"
      ]
     },
     "execution_count": 13,
     "metadata": {},
     "output_type": "execute_result"
    }
   ],
   "source": [
    "w2v = Word2Vec.load('../../model/size200_min20_window10')\n",
    "w2v.wv[]"
   ]
  },
  {
   "cell_type": "code",
   "execution_count": 64,
   "metadata": {},
   "outputs": [
    {
     "data": {
      "text/html": [
       "<div>\n",
       "<style scoped>\n",
       "    .dataframe tbody tr th:only-of-type {\n",
       "        vertical-align: middle;\n",
       "    }\n",
       "\n",
       "    .dataframe tbody tr th {\n",
       "        vertical-align: top;\n",
       "    }\n",
       "\n",
       "    .dataframe thead th {\n",
       "        text-align: right;\n",
       "    }\n",
       "</style>\n",
       "<table border=\"1\" class=\"dataframe\">\n",
       "  <thead>\n",
       "    <tr style=\"text-align: right;\">\n",
       "      <th></th>\n",
       "      <th>class</th>\n",
       "      <th>document</th>\n",
       "    </tr>\n",
       "  </thead>\n",
       "  <tbody>\n",
       "    <tr>\n",
       "      <td>0</td>\n",
       "      <td>dokujo-tsushin</td>\n",
       "      <td>タニタだけじゃない。2008年から社員食堂を一般公開しているのはロート製薬が運営する旬穀旬菜...</td>\n",
       "    </tr>\n",
       "    <tr>\n",
       "      <td>1</td>\n",
       "      <td>dokujo-tsushin</td>\n",
       "      <td>東京・渋谷のセンター街でマスク姿の10〜30代の男女100人にアンケート調査を実施したところ...</td>\n",
       "    </tr>\n",
       "    <tr>\n",
       "      <td>2</td>\n",
       "      <td>dokujo-tsushin</td>\n",
       "      <td>あなたは親友と呼べる友達がいるだろうか？ 独女たちの間ではよくある話だが、親友が結婚した途端...</td>\n",
       "    </tr>\n",
       "    <tr>\n",
       "      <td>3</td>\n",
       "      <td>dokujo-tsushin</td>\n",
       "      <td>互いに好意を持ちながらも、天井裏から覗く、覗かれるという関係しか築けない複雑な男女の愛を、近...</td>\n",
       "    </tr>\n",
       "    <tr>\n",
       "      <td>4</td>\n",
       "      <td>dokujo-tsushin</td>\n",
       "      <td>「女性ホルモンで美しく！」なんてよく聞くけれど、それがどんなものか、みんなはイメージできるか...</td>\n",
       "    </tr>\n",
       "  </tbody>\n",
       "</table>\n",
       "</div>"
      ],
      "text/plain": [
       "            class                                           document\n",
       "0  dokujo-tsushin  タニタだけじゃない。2008年から社員食堂を一般公開しているのはロート製薬が運営する旬穀旬菜...\n",
       "1  dokujo-tsushin  東京・渋谷のセンター街でマスク姿の10〜30代の男女100人にアンケート調査を実施したところ...\n",
       "2  dokujo-tsushin  あなたは親友と呼べる友達がいるだろうか？ 独女たちの間ではよくある話だが、親友が結婚した途端...\n",
       "3  dokujo-tsushin  互いに好意を持ちながらも、天井裏から覗く、覗かれるという関係しか築けない複雑な男女の愛を、近...\n",
       "4  dokujo-tsushin  「女性ホルモンで美しく！」なんてよく聞くけれど、それがどんなものか、みんなはイメージできるか..."
      ]
     },
     "metadata": {},
     "output_type": "display_data"
    }
   ],
   "source": [
    "# load class and documents\n",
    "df = pd.read_csv(rw / 'class_and_document.csv')\n",
    "display(df.head())\n",
    "\n",
    "# load featurized corpus\n",
    "with (rw / 'corpus.csv').open('r') as f:\n",
    "    corpus = [row for row in csv.reader(f)]"
   ]
  },
  {
   "cell_type": "code",
   "execution_count": 60,
   "metadata": {
    "scrolled": true
   },
   "outputs": [
    {
     "name": "stdout",
     "output_type": "stream",
     "text": [
      "7376\n"
     ]
    }
   ],
   "source": [
    "# encoding\n",
    "vectorized_corpus = []\n",
    "for document in corpus:\n",
    "    v = []\n",
    "    for token in document:\n",
    "        try:\n",
    "            v.append(w2v.wv[token])\n",
    "        except KeyError as e:\n",
    "            pass\n",
    "    vectorized_corpus.append(np.array(v).mean(axis=0))\n",
    "    \n",
    "print(len(vectorized_corpus))"
   ]
  },
  {
   "cell_type": "code",
   "execution_count": 84,
   "metadata": {},
   "outputs": [
    {
     "data": {
      "text/plain": [
       "array([[-0.02192472,  0.01983469],\n",
       "       [-0.01185588,  0.00893216]], dtype=float32)"
      ]
     },
     "execution_count": 84,
     "metadata": {},
     "output_type": "execute_result"
    }
   ],
   "source": [
    "np.array(vectorized_corpus)[0:2, 0:2]"
   ]
  },
  {
   "cell_type": "code",
   "execution_count": 86,
   "metadata": {},
   "outputs": [
    {
     "name": "stdout",
     "output_type": "stream",
     "text": [
      "(5532, 200)\n",
      "(1844, 200)\n",
      "(5532,)\n",
      "(1844,)\n"
     ]
    }
   ],
   "source": [
    "X = np.array(vectorized_corpus)\n",
    "y = np.array(df['class'])\n",
    "X_train, X_test, y_train, y_test = train_test_split(X, y, random_state=123)\n",
    "\n",
    "print(X_train.shape)\n",
    "print(X_test.shape)\n",
    "print(y_train.shape)\n",
    "print(y_test.shape)"
   ]
  },
  {
   "cell_type": "code",
   "execution_count": 88,
   "metadata": {},
   "outputs": [
    {
     "data": {
      "text/plain": [
       "['LinearSVC', 'LinearSVR', 'NuSVC', 'NuSVR', 'OneClassSVM', 'SVC', 'SVR']"
      ]
     },
     "execution_count": 88,
     "metadata": {},
     "output_type": "execute_result"
    }
   ],
   "source": [
    "from sklearn import svm\n",
    "[m for m in dir(svm) if 'SV' in m]"
   ]
  },
  {
   "cell_type": "code",
   "execution_count": 73,
   "metadata": {},
   "outputs": [
    {
     "name": "stderr",
     "output_type": "stream",
     "text": [
      "/Users/miori/.local/share/virtualenvs/miori-QT72LG3r/lib/python3.7/site-packages/sklearn/svm/base.py:193: FutureWarning: The default value of gamma will change from 'auto' to 'scale' in version 0.22 to account better for unscaled features. Set gamma explicitly to 'auto' or 'scale' to avoid this warning.\n",
      "  \"avoid this warning.\", FutureWarning)\n"
     ]
    }
   ],
   "source": [
    "svc = SVC()\n",
    "svc.fit(X_train, y_train)\n",
    "y_predicted = svc.predict(X_test)"
   ]
  },
  {
   "cell_type": "code",
   "execution_count": 85,
   "metadata": {},
   "outputs": [
    {
     "data": {
      "text/plain": [
       "0.10303687635574837"
      ]
     },
     "execution_count": 85,
     "metadata": {},
     "output_type": "execute_result"
    }
   ],
   "source": [
    "svc.score(X_test, y_test)"
   ]
  },
  {
   "cell_type": "code",
   "execution_count": 76,
   "metadata": {},
   "outputs": [
    {
     "data": {
      "text/plain": [
       "array(['dokujo-tsushin', 'it-life-hack', 'kaden-channel',\n",
       "       'livedoor-homme', 'movie-enter', 'peachy', 'smax', 'sports-watch',\n",
       "       'topic-news'], dtype=object)"
      ]
     },
     "execution_count": 76,
     "metadata": {},
     "output_type": "execute_result"
    }
   ],
   "source": [
    "np.unique(y_test)"
   ]
  },
  {
   "cell_type": "code",
   "execution_count": 75,
   "metadata": {},
   "outputs": [
    {
     "data": {
      "text/plain": [
       "array(['kaden-channel'], dtype=object)"
      ]
     },
     "execution_count": 75,
     "metadata": {},
     "output_type": "execute_result"
    }
   ],
   "source": [
    "np.unique(y_predicted)"
   ]
  },
  {
   "cell_type": "code",
   "execution_count": 78,
   "metadata": {},
   "outputs": [
    {
     "data": {
      "text/plain": [
       "array([[  0,   0, 204,   0,   0,   0,   0,   0,   0],\n",
       "       [  0,   0, 213,   0,   0,   0,   0,   0,   0],\n",
       "       [  0,   0, 190,   0,   0,   0,   0,   0,   0],\n",
       "       [  0,   0, 131,   0,   0,   0,   0,   0,   0],\n",
       "       [  0,   0, 235,   0,   0,   0,   0,   0,   0],\n",
       "       [  0,   0, 213,   0,   0,   0,   0,   0,   0],\n",
       "       [  0,   0, 214,   0,   0,   0,   0,   0,   0],\n",
       "       [  0,   0, 239,   0,   0,   0,   0,   0,   0],\n",
       "       [  0,   0, 205,   0,   0,   0,   0,   0,   0]])"
      ]
     },
     "execution_count": 78,
     "metadata": {},
     "output_type": "execute_result"
    }
   ],
   "source": [
    "confusion_matrix(y_test, y_predicted)"
   ]
  }
 ],
 "metadata": {
  "kernelspec": {
   "display_name": "Python 3",
   "language": "python",
   "name": "python3"
  },
  "language_info": {
   "codemirror_mode": {
    "name": "ipython",
    "version": 3
   },
   "file_extension": ".py",
   "mimetype": "text/x-python",
   "name": "python",
   "nbconvert_exporter": "python",
   "pygments_lexer": "ipython3",
   "version": "3.7.4"
  }
 },
 "nbformat": 4,
 "nbformat_minor": 2
}
